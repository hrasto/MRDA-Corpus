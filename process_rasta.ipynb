{
 "cells": [
  {
   "cell_type": "code",
   "execution_count": 6,
   "metadata": {},
   "outputs": [],
   "source": [
    "import os\n",
    "import segmenters.structure as struc"
   ]
  },
  {
   "cell_type": "code",
   "execution_count": 11,
   "metadata": {},
   "outputs": [
    {
     "name": "stdout",
     "output_type": "stream",
     "text": [
      "1 file(s) to process: icsi_train.txt\n",
      "Building vocabulary...\n",
      "Encoding tokens...\n",
      "1 file(s) to process: icsi_test.txt\n",
      "Building vocabulary...\n",
      "Encoding tokens...\n",
      "1 file(s) to process: icsi_val.txt\n",
      "Building vocabulary...\n",
      "Encoding tokens...\n"
     ]
    }
   ],
   "source": [
    "for corpus_part in ['train', 'test', 'val']:\n",
    "    dirname = os.path.join('mrda_data', corpus_part)\n",
    "\n",
    "    newfile = open(f'icsi_{corpus_part}.txt', 'w')\n",
    "    seg = {\n",
    "        'file': [],\n",
    "        'speaker': [],\n",
    "        'da_basic': [],\n",
    "        'da_general': [],\n",
    "        'da_full': []\n",
    "    }\n",
    "\n",
    "    for fname in os.listdir(dirname):\n",
    "        fpath = os.path.join(dirname, fname)\n",
    "        fname = fname.split('.')[0]\n",
    "        oldfile = open(fpath, 'r')\n",
    "        for line in oldfile: \n",
    "            speaker, txt, da_basic, da_general, da_full = line.strip().split('|')\n",
    "            newfile.write(txt+'\\n')\n",
    "            seg['file'].append(fname)\n",
    "            seg['speaker'].append(speaker)\n",
    "            seg['da_basic'].append(da_basic)\n",
    "            seg['da_general'].append(da_general)\n",
    "            seg['da_full'].append(da_full)\n",
    "        oldfile.close()\n",
    "    newfile.close()\n",
    "\n",
    "    !python ../../cli/process.py icsi_{corpus_part}.txt\n",
    "\n",
    "    mask_token = '_'\n",
    "    corpus = struc.StructuredCorpus.build(\n",
    "        f'icsi_{corpus_part}_proc.txt', \n",
    "        f'icsi_{corpus_part}', \n",
    "        char_lvl=True, \n",
    "        extra_tokens=[mask_token])\n",
    "    for sname, _seg in seg.items():\n",
    "        corpus.add_segmentation((sname, _seg))\n",
    "    os.remove(f'icsi_{corpus_part}_proc.txt')\n",
    "    os.remove(f'icsi_{corpus_part}.txt')\n"
   ]
  },
  {
   "cell_type": "code",
   "execution_count": null,
   "metadata": {},
   "outputs": [],
   "source": []
  }
 ],
 "metadata": {
  "interpreter": {
   "hash": "d8f5a8577b8cf413169496226e4485bf91d05ebdcdf9e1588db361085a732ed9"
  },
  "kernelspec": {
   "display_name": "Python 3.8.12 64-bit ('ml_env': conda)",
   "name": "python3"
  },
  "language_info": {
   "codemirror_mode": {
    "name": "ipython",
    "version": 3
   },
   "file_extension": ".py",
   "mimetype": "text/x-python",
   "name": "python",
   "nbconvert_exporter": "python",
   "pygments_lexer": "ipython3",
   "version": "3.8.12"
  },
  "orig_nbformat": 4
 },
 "nbformat": 4,
 "nbformat_minor": 2
}
